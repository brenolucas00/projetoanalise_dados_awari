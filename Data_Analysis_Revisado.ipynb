{
  "nbformat": 4,
  "nbformat_minor": 0,
  "metadata": {
    "colab": {
      "name": "Data Analysis - Revisado.ipynb",
      "provenance": [],
      "collapsed_sections": []
    },
    "kernelspec": {
      "name": "python3",
      "display_name": "Python 3"
    },
    "language_info": {
      "name": "python"
    }
  },
  "cells": [
    {
      "cell_type": "markdown",
      "source": [
        ""
      ],
      "metadata": {
        "id": "ZQMwSdbOaXkP"
      }
    },
    {
      "cell_type": "markdown",
      "source": [
        "# <H1> Projeto final - Data Analysis - Revisado - Dados estatísticos do Campeonato Brasileiro entre 2009 e 2018\n"
      ],
      "metadata": {
        "id": "btoSxxfdaZDM"
      }
    },
    {
      "cell_type": "markdown",
      "source": [
        "Nesse projeto quero comparar os dados estatísticos dos times que foram campeões e que foram rebaixados entre 2009 e 2018."
      ],
      "metadata": {
        "id": "Lw6e1ROOatyi"
      }
    },
    {
      "cell_type": "markdown",
      "source": [
        "## Bibliotecas"
      ],
      "metadata": {
        "id": "0cIQcTQxbXB2"
      }
    },
    {
      "cell_type": "code",
      "source": [
        "import pandas as pd\n",
        "import numpy as np\n",
        "import matplotlib.pyplot as plt\n",
        "import seaborn as sns\n",
        "import plotly.express as px\n",
        "import plotly.graph_objects as go"
      ],
      "metadata": {
        "id": "u9YktAXUbYGp"
      },
      "execution_count": 1,
      "outputs": []
    },
    {
      "cell_type": "markdown",
      "source": [
        "## Dataset"
      ],
      "metadata": {
        "id": "pm4LO5JLbhMQ"
      }
    },
    {
      "cell_type": "markdown",
      "source": [
        "Dataset utilizado pode ser encontrado em>:\n",
        "\n",
        "[Campeonato Brasileiro 2009 - 2018](https://www.kaggle.com/datasets/andreifnmg/campeonato-braileiro-20092018)"
      ],
      "metadata": {
        "id": "M4_mP04kbiVd"
      }
    },
    {
      "cell_type": "markdown",
      "source": [
        "Montando um drive no meu Google Drive:"
      ],
      "metadata": {
        "id": "wfDbczl9cGaj"
      }
    },
    {
      "cell_type": "code",
      "source": [
        "from google.colab import drive\n",
        "drive.mount ('/content/drive')"
      ],
      "metadata": {
        "id": "weov6btrboOp"
      },
      "execution_count": null,
      "outputs": []
    },
    {
      "cell_type": "markdown",
      "source": [
        "# Análise Exploratória"
      ],
      "metadata": {
        "id": "0Zu0BbV1cMFO"
      }
    },
    {
      "cell_type": "code",
      "source": [
        "df=pd.read_csv('/content/drive/MyDrive/Tabela_Clubes.csv')\n",
        "df"
      ],
      "metadata": {
        "id": "SmzMETLKcNqS"
      },
      "execution_count": null,
      "outputs": []
    },
    {
      "cell_type": "markdown",
      "source": [
        "Dei um replace pois no dataset está escrito 2009 a 2018, mas no df está de 2008 a 2017."
      ],
      "metadata": {
        "id": "1bbukUdLOWqX"
      }
    },
    {
      "cell_type": "code",
      "source": [
        "dfat=df.replace({2008:2009,2009:2010,2010:2011,2011:2012,2012:2013,2013:2014,2014:2015,2015:2016,2016:2017,2017:2018})\n",
        "dfat"
      ],
      "metadata": {
        "id": "PMhLBubrsTfg"
      },
      "execution_count": null,
      "outputs": []
    },
    {
      "cell_type": "markdown",
      "source": [
        "Na aba 'Gols F/S' separei os gols sofridos/feitos para uma análise média:"
      ],
      "metadata": {
        "id": "G8rV8tZaclzZ"
      }
    },
    {
      "cell_type": "code",
      "source": [
        "dfat['GolsF']=dfat['GolsF/S'].str.split(\":\", expand=True)[0].astype(float)\n",
        "dfat"
      ],
      "metadata": {
        "id": "nSevDU4Uc57L"
      },
      "execution_count": null,
      "outputs": []
    },
    {
      "cell_type": "markdown",
      "source": [
        "No gráfico abaixo, temos uma recaída drástica na média de gols numa análise anual, o que podemos perceber que o campeonato brasileiro ao longo dos dez anos (2009-2018) foi ficando mais difícil. Vendo que tanto os gols feitos e sofridos a soma deles de uma maneira geral é o mesmo., o volume médio diminuiu."
      ],
      "metadata": {
        "id": "ePlV4IrhdDjH"
      }
    },
    {
      "cell_type": "code",
      "source": [
        "dfgols=dfat.groupby(['Ano']).mean()['GolsF'].reset_index()\n",
        "fig = px.line (dfgols, x='Ano',y='GolsF', title='Gráfico 1 - Média de gols entre 2009 e 2018' )\n",
        "fig.show()"
      ],
      "metadata": {
        "id": "dqe3Q4wtdvzI"
      },
      "execution_count": null,
      "outputs": []
    },
    {
      "cell_type": "markdown",
      "source": [
        "Estabeleci um gráfico para fazer a média dos gols feitos por time. O Atlético/MG\n",
        "teve a maior média (55,5 gols) e o Paraná  a menor (18 gols)."
      ],
      "metadata": {
        "id": "glgvM7NOjDWA"
      }
    },
    {
      "cell_type": "code",
      "source": [
        "dfclubes=dfat.groupby(['Clubes']).mean()['GolsF'].reset_index()\n",
        "dfclubes1=dfclubes.sort_values(by='GolsF', ascending=False)\n",
        "fig = px.bar(dfclubes1, x='Clubes', y=\"GolsF\", title='Gráfico 2 - Média de gols feitos dos times entre 2009 e 2018')\n",
        "fig.show()"
      ],
      "metadata": {
        "id": "Gm6W2Sc2jnRf"
      },
      "execution_count": null,
      "outputs": []
    },
    {
      "cell_type": "markdown",
      "source": [
        "Vou comparar os gols do times que foram campeões e os que fizeram mais gols, demonstrando a diferença e reforçando a ideia que para ser campeão não precisa ter o maior número de gols. Selecionei dois anos (2009 e 2018) pois o tempo foi curto para fazer de todos os anos"
      ],
      "metadata": {
        "id": "CPkH3y0AlhZj"
      }
    },
    {
      "cell_type": "markdown",
      "source": [
        "Dataframe de 2009:"
      ],
      "metadata": {
        "id": "rg6uE1Enn0_S"
      }
    },
    {
      "cell_type": "code",
      "source": [
        "df2009=dfat[dfat['Ano']==2009]\n",
        "df2009_1=df2009.sort_values(by='GolsF', ascending=False)\n",
        "df2009_1"
      ],
      "metadata": {
        "id": "WS8lauM4ldsw"
      },
      "execution_count": null,
      "outputs": []
    },
    {
      "cell_type": "code",
      "source": [
        "colors = ['lightslategray',] * 20\n",
        "colors[0] = 'crimson'\n",
        "colors[8] = 'green'\n",
        "\n",
        "fig = go.Figure(data=[go.Bar(\n",
        "    x=df2009_1.Clubes,\n",
        "    y=df2009_1.GolsF,\n",
        "    marker_color=colors # marker color can be a single color value or an iterable\n",
        ")])\n",
        "fig.update_layout(title_text='Gráfico 3 - Gols feitos na Série A do Campeonato Brasileiro em 2009 - Campeão: Flamengo')"
      ],
      "metadata": {
        "id": "bDbKxY2UmENr"
      },
      "execution_count": null,
      "outputs": []
    },
    {
      "cell_type": "markdown",
      "source": [
        "Em 2009, o Grêmio, em 8º colocado, fez 67 gols e o Flamengo, campeão brasileiro, fez 58. O campeão teve uma deficiência de 13% a menos na quantidade de gols em relação ao oitavo colocado. \n"
      ],
      "metadata": {
        "id": "gltW_XKSmaoN"
      }
    },
    {
      "cell_type": "markdown",
      "source": [
        "Dataframe de 2017:"
      ],
      "metadata": {
        "id": "75F9KIWtoy_1"
      }
    },
    {
      "cell_type": "code",
      "source": [
        "df2017=dfat[dfat['Ano']==2017]\n",
        "df2017_1=df2017.sort_values(by='GolsF', ascending=False)\n",
        "df2017_1"
      ],
      "metadata": {
        "id": "8i0d2pJLo0cI"
      },
      "execution_count": null,
      "outputs": []
    },
    {
      "cell_type": "code",
      "source": [
        "colors = ['lightslategray',] * 20\n",
        "colors[0] = 'crimson'\n",
        "colors[4] = 'green'\n",
        "\n",
        "fig = go.Figure(data=[go.Bar(\n",
        "    x=df2017_1.Clubes,\n",
        "    y=df2017_1.GolsF,\n",
        "    marker_color=colors # marker color can be a single color value or an iterable\n",
        ")])\n",
        "fig.update_layout(title_text='Gráfico 4 - Gols feitos na Série A do Campeonato Brasileiro em 2017 - Campeão: Corinthians')"
      ],
      "metadata": {
        "id": "140tapT5pHE-"
      },
      "execution_count": null,
      "outputs": []
    },
    {
      "cell_type": "markdown",
      "source": [
        "Em 2017, o Palmeiras, em 2º colocado, fez 61 gols e o Corinthians, campeão brasileiro, fez 50. O campeão teve uma deficiência de 18% a menos na quantidade de gols em relação ao segundo colocado. \n"
      ],
      "metadata": {
        "id": "qSwdixMsph5J"
      }
    },
    {
      "cell_type": "markdown",
      "source": [
        "##Criei um df primeiramente separando as colunas necessárias e depois criei outro para um campeão de cada ano para comparar o saldo de gols entre eles:"
      ],
      "metadata": {
        "id": "dBaf5nSXRo4X"
      }
    },
    {
      "cell_type": "code",
      "source": [
        "dfcp=dfat.loc[:,['Ano','Clubes', 'Pos.','Saldo']]\n",
        "dfcp"
      ],
      "metadata": {
        "id": "-JVH8B9xRsN-"
      },
      "execution_count": null,
      "outputs": []
    },
    {
      "cell_type": "code",
      "source": [
        "dfcp1=dfcp.loc[dfcp['Pos.']==1]\n",
        "dfcp2=dfcp1.sort_values(by='Ano', ascending=True)\n",
        "dfcp2"
      ],
      "metadata": {
        "id": "4g8vGkW5sUTJ"
      },
      "execution_count": null,
      "outputs": []
    },
    {
      "cell_type": "code",
      "source": [
        "fig = px.bar(dfcp2, x='Ano', y='Saldo', text='Clubes', color='Clubes', title='Gráfico 5 - Saldo de gols - Campeões de 2009 a 2018')\n",
        "plt.figure(figsize=(15 ,10))\n",
        "fig.show()"
      ],
      "metadata": {
        "id": "wYUhrOmvT2g-"
      },
      "execution_count": null,
      "outputs": []
    },
    {
      "cell_type": "markdown",
      "source": [
        "Cruzeiro e Corinthians tiveram o maior saldo de gols, tendo 40 cada um."
      ],
      "metadata": {
        "id": "Z8OQQGDbtiYp"
      }
    },
    {
      "cell_type": "markdown",
      "source": [
        "Mostrando os times que mais foram campeões"
      ],
      "metadata": {
        "id": "Pft0NRpotiAd"
      }
    },
    {
      "cell_type": "code",
      "source": [
        "dfcp1=dfcp1.loc[:,['Clubes', 'Pos.']]\n",
        "dfcp3=dfcp1.sort_values(by='Clubes', ascending=False)\n",
        "dfcp3"
      ],
      "metadata": {
        "id": "gWCH2TWvoOh6"
      },
      "execution_count": null,
      "outputs": []
    },
    {
      "cell_type": "code",
      "source": [
        "dfcp4=dfcp3.value_counts('Clubes').reset_index()\n",
        "dfcp4\n"
      ],
      "metadata": {
        "id": "UGq31j2FtwjG"
      },
      "execution_count": null,
      "outputs": []
    },
    {
      "cell_type": "code",
      "source": [
        "dfcp4.columns=['Clubes', 'Vezes que foram campeões']\n",
        "dfcp4"
      ],
      "metadata": {
        "id": "gEVVQ0vouXD4"
      },
      "execution_count": null,
      "outputs": []
    },
    {
      "cell_type": "code",
      "source": [
        "fig1 = px.bar(dfcp4, x='Clubes', y='Vezes que foram campeões', text='Clubes', color='Clubes', title='Gráfico 6 - Times que mais foram campeões')\n",
        "plt.figure(figsize=(15 ,10))\n",
        "fig1.show()"
      ],
      "metadata": {
        "id": "wbDIAEuCpUJn"
      },
      "execution_count": null,
      "outputs": []
    },
    {
      "cell_type": "markdown",
      "source": [
        "O Corinthians se destacou nesses 10 anos, somando 3 títulos. Cruzeiro, Fluminense e Palmeiras tiveram 2 cada um."
      ],
      "metadata": {
        "id": "tTErYCiit44w"
      }
    },
    {
      "cell_type": "code",
      "source": [
        "dfcp1=dfcp.loc[dfcp['Pos.']==1]\n",
        "dfcp2=dfcp1.sort_values(by='Ano', ascending=True)\n",
        "dfcp2\n",
        "fig = px.line (dfcp2, x='Ano',y='Saldo', title='Gráfico 7 - Saldo de gols - Campeões de 2009 a 2018' )\n",
        "fig.show()"
      ],
      "metadata": {
        "id": "jKFmnXKlUtjm"
      },
      "execution_count": null,
      "outputs": []
    },
    {
      "cell_type": "markdown",
      "source": [
        "Apesar de no gráfico 1 demonstrar que a média dos gols de todos os times baixou ao longo dos anos, o saldo dos times campeões demonstrado no gráfico 6 foram aumentando, apesar de uma queda de 31% entre 2013 e 2014 e de 50% entre 2015 e 2017."
      ],
      "metadata": {
        "id": "QLqKKqnCXKxg"
      }
    },
    {
      "cell_type": "markdown",
      "source": [
        "## Demonstrando abaixo uma análise dos times rebaixados:"
      ],
      "metadata": {
        "id": "aK5JL83Tvy1R"
      }
    },
    {
      "cell_type": "markdown",
      "source": [
        "Os times que mais foram rebaixados."
      ],
      "metadata": {
        "id": "cBA91-E3v53G"
      }
    },
    {
      "cell_type": "code",
      "source": [
        "dfat"
      ],
      "metadata": {
        "id": "Ng5MeY3ewAvP"
      },
      "execution_count": null,
      "outputs": []
    },
    {
      "cell_type": "markdown",
      "source": [
        "Trazendo os 4 últimos colocados de 2009 a 2018."
      ],
      "metadata": {
        "id": "_Z0FkSkWwNel"
      }
    },
    {
      "cell_type": "code",
      "source": [
        "df.groupby(['Ano']).head()['Clubes'].reset_index()\n",
        "dfreb1=dfat.loc[dfat['Ano']==2009]\n",
        "dfreb2=dfreb1.loc[dfat['Pos.']>=17]\n",
        "dfreb3=dfreb2.sort_values(by='Pos.', ascending=True)\n",
        "dfreb3\n"
      ],
      "metadata": {
        "id": "S9AVOjR7wTsq"
      },
      "execution_count": null,
      "outputs": []
    },
    {
      "cell_type": "code",
      "source": [
        "df.groupby(['Ano']).head()['Clubes'].reset_index()\n",
        "dfreb4=dfat.loc[dfat['Ano']==2010]\n",
        "dfreb5=dfreb4.loc[dfat['Pos.']>=17]\n",
        "dfreb6=dfreb5.sort_values(by='Pos.', ascending=True)\n",
        "dfreb6"
      ],
      "metadata": {
        "id": "Y18frehDwaZm"
      },
      "execution_count": null,
      "outputs": []
    },
    {
      "cell_type": "code",
      "source": [
        "df.groupby(['Ano']).head()['Clubes'].reset_index()\n",
        "dfreb7=dfat.loc[dfat['Ano']==2011]\n",
        "dfreb8=dfreb7.loc[dfat['Pos.']>=17]\n",
        "dfreb9=dfreb8.sort_values(by='Pos.', ascending=True)\n",
        "dfreb9"
      ],
      "metadata": {
        "id": "3dziKStBwfOc"
      },
      "execution_count": null,
      "outputs": []
    },
    {
      "cell_type": "code",
      "source": [
        "df.groupby(['Ano']).head()['Clubes'].reset_index()\n",
        "dfreb10=dfat.loc[dfat['Ano']==2012]\n",
        "dfreb11=dfreb10.loc[dfat['Pos.']>=17]\n",
        "dfreb12=dfreb11.sort_values(by='Pos.', ascending=True)\n",
        "dfreb12"
      ],
      "metadata": {
        "id": "Ag-aBoa9wkSo"
      },
      "execution_count": null,
      "outputs": []
    },
    {
      "cell_type": "code",
      "source": [
        "df.groupby(['Ano']).head()['Clubes'].reset_index()\n",
        "dfreb13=dfat.loc[dfat['Ano']==2013]\n",
        "dfreb14=dfreb13.loc[dfat['Pos.']>=17]\n",
        "dfreb15=dfreb14.sort_values(by='Pos.', ascending=True)\n",
        "dfreb15"
      ],
      "metadata": {
        "id": "a2M41d26w1oM"
      },
      "execution_count": null,
      "outputs": []
    },
    {
      "cell_type": "code",
      "source": [
        "df.groupby(['Ano']).head()['Clubes'].reset_index()\n",
        "dfreb16=dfat.loc[dfat['Ano']==2014]\n",
        "dfreb17=dfreb16.loc[dfat['Pos.']>=17]\n",
        "dfreb18=dfreb17.sort_values(by='Pos.', ascending=True)\n",
        "dfreb18"
      ],
      "metadata": {
        "id": "apb4qIcKw6FJ"
      },
      "execution_count": null,
      "outputs": []
    },
    {
      "cell_type": "code",
      "source": [
        "df.groupby(['Ano']).head()['Clubes'].reset_index()\n",
        "dfreb19=dfat.loc[dfat['Ano']==2015]\n",
        "dfreb20=dfreb19.loc[dfat['Pos.']>=17]\n",
        "dfreb21=dfreb20.sort_values(by='Pos.', ascending=True)\n",
        "dfreb21"
      ],
      "metadata": {
        "id": "GGAVeHnEw9yR"
      },
      "execution_count": null,
      "outputs": []
    },
    {
      "cell_type": "code",
      "source": [
        "df.groupby(['Ano']).head()['Clubes'].reset_index()\n",
        "dfreb22=dfat.loc[dfat['Ano']==2016]\n",
        "dfreb23=dfreb22.loc[dfat['Pos.']>=17]\n",
        "dfreb24=dfreb23.sort_values(by='Pos.', ascending=True)\n",
        "dfreb24"
      ],
      "metadata": {
        "id": "Ime1WVbkxC3f"
      },
      "execution_count": null,
      "outputs": []
    },
    {
      "cell_type": "code",
      "source": [
        "df.groupby(['Ano']).head()['Clubes'].reset_index()\n",
        "dfreb25=dfat.loc[dfat['Ano']==2017]\n",
        "dfreb26=dfreb25.loc[dfat['Pos.']>=17]\n",
        "dfreb27=dfreb26.sort_values(by='Pos.', ascending=True)\n",
        "dfreb27"
      ],
      "metadata": {
        "id": "aHnZHLSxgodf"
      },
      "execution_count": null,
      "outputs": []
    },
    {
      "cell_type": "code",
      "source": [
        "df.groupby(['Ano']).head()['Clubes'].reset_index()\n",
        "dfreb28=dfat.loc[dfat['Ano']==2018]\n",
        "dfreb29=dfreb28.loc[dfat['Pos.']>=17]\n",
        "dfreb30=dfreb29.sort_values(by='Pos.', ascending=True)\n",
        "dfreb30"
      ],
      "metadata": {
        "id": "Q12EyT2uxbyi"
      },
      "execution_count": null,
      "outputs": []
    },
    {
      "cell_type": "markdown",
      "source": [
        "Concatenando todos os resultados"
      ],
      "metadata": {
        "id": "fkDSS0oHyQEF"
      }
    },
    {
      "cell_type": "code",
      "source": [
        "dfreb35=pd.concat([dfreb3,dfreb6,dfreb9,dfreb12,dfreb15,dfreb18,dfreb21,dfreb24,dfreb27,dfreb30])\n",
        "dfreb36=dfreb35.loc[:,['Ano','Clubes','Saldo']]\n",
        "dfreb37=dfreb36.sort_values(by='Clubes', ascending=True)\n",
        "dfreb37"
      ],
      "metadata": {
        "id": "z1xSMJglyTjH"
      },
      "execution_count": null,
      "outputs": []
    },
    {
      "cell_type": "markdown",
      "source": [
        "Dando um value counts para somar a quantidade de vezes que o nome do time aparece, para ter a visão da quantidade de rebaixamento:"
      ],
      "metadata": {
        "id": "zGNby1VtyoC6"
      }
    },
    {
      "cell_type": "code",
      "source": [
        "dfreb38=dfreb37['Clubes'].value_counts().reset_index()\n",
        "dfreb38.columns=['Clubes', 'Vezes que foram rebaixados']\n",
        "dfreb38"
      ],
      "metadata": {
        "id": "TErvW7WIyy2s"
      },
      "execution_count": null,
      "outputs": []
    },
    {
      "cell_type": "markdown",
      "source": [
        "Facilitando a visão através do gráfico:\n",
        "\n",
        "\n"
      ],
      "metadata": {
        "id": "9GbMPlt3zC49"
      }
    },
    {
      "cell_type": "code",
      "source": [
        "fig1 = px.bar(dfreb38, x='Clubes', y='Vezes que foram rebaixados', text='Vezes que foram rebaixados', color='Vezes que foram rebaixados', title='Gráfico 8 - Times que mais foram rebaixados')\n",
        "plt.figure(figsize=(15 ,10))\n",
        "fig1.show()"
      ],
      "metadata": {
        "id": "y1A3PxGDzNod"
      },
      "execution_count": null,
      "outputs": []
    },
    {
      "cell_type": "markdown",
      "source": [
        "Quatro times foram mais rebaixados, tendo cada um deles 3 rebaixamentos: América-MG, Avaí, Sport e Vitória"
      ],
      "metadata": {
        "id": "TKqV7rYXzkSa"
      }
    },
    {
      "cell_type": "code",
      "source": [
        "dfreb37"
      ],
      "metadata": {
        "id": "WAAJtdoW1bPb"
      },
      "execution_count": null,
      "outputs": []
    },
    {
      "cell_type": "code",
      "source": [
        "dfreb38=dfreb37.loc[:,['Ano', 'Saldo']]\n",
        "dfreb39=dfreb38.groupby(['Ano']).sum()['Saldo'].reset_index()\n",
        "dfreb39"
      ],
      "metadata": {
        "id": "V_-SO2BC1r0c"
      },
      "execution_count": null,
      "outputs": []
    },
    {
      "cell_type": "markdown",
      "source": [
        "Analisando o saldo dos times por *ANO* que foram rebaixados, temos a seguinte linha:"
      ],
      "metadata": {
        "id": "8E-m8tbZ2EIp"
      }
    },
    {
      "cell_type": "code",
      "source": [
        "fig = px.line(dfreb39, x='Ano', y=\"Saldo\", title='Gráfico 9 - Saldo de gols dos times rebaixados entre 2009 a 2018 - Série A')\n",
        "fig.show()"
      ],
      "metadata": {
        "id": "kJ_ZFU-69ieK"
      },
      "execution_count": null,
      "outputs": []
    },
    {
      "cell_type": "markdown",
      "source": [
        "Considerando a linha acima negativa (Gráfico 8), como demonstrado no dfreb39, o saldo dos gols negativos aumentou drasticamente em 2018. Os rebaixados tiveram uma pequena melhora em 2009, mas a qualidade dos times piorou bastante. Entre o primeiro ano de análise e o último, houve uma piora de 30% no saldo negativo. Os times não conseguiram investir o bastante para serem competitivos com os times da primeira divisão, tendo em 2018 um total de 105 gols negativos."
      ],
      "metadata": {
        "id": "xd3i-KKOvP27"
      }
    },
    {
      "cell_type": "markdown",
      "source": [
        "##Abaixo temos o comparativo de gols de times em comum de todos os times que se mantiveram na primeira divisão em 2009 e 2018. Fiz dessa forma pois não seria justo comparar com os times que foram rebaixados. Poderia estabelecer a média, mas preferi manter essa estrutura de pensamento."
      ],
      "metadata": {
        "id": "AZT9W8I5w9w-"
      }
    },
    {
      "cell_type": "code",
      "source": [
        "dfat"
      ],
      "metadata": {
        "id": "sDVKymTnxXQA"
      },
      "execution_count": null,
      "outputs": []
    },
    {
      "cell_type": "code",
      "source": [
        "df2009=dfat[dfat['Ano']==2009]\n",
        "df2009\n"
      ],
      "metadata": {
        "id": "bkCIrRGL0fDl"
      },
      "execution_count": null,
      "outputs": []
    },
    {
      "cell_type": "code",
      "source": [
        "df2018=dfat[dfat['Ano']==2018]\n",
        "df2018\n"
      ],
      "metadata": {
        "id": "KDU7iLqZ0yNW"
      },
      "execution_count": null,
      "outputs": []
    },
    {
      "cell_type": "markdown",
      "source": [
        ""
      ],
      "metadata": {
        "id": "nUUyjgf0zva5"
      }
    },
    {
      "cell_type": "code",
      "source": [
        "df_s=pd.concat([df2009,df2018])\n",
        "df_s1=df_s.sort_values(by='Clubes', ascending=True)\n",
        "df_s1"
      ],
      "metadata": {
        "id": "EplnlT-_02SV"
      },
      "execution_count": null,
      "outputs": []
    },
    {
      "cell_type": "code",
      "source": [
        "df0=df_s1.drop(0, axis=0)\n",
        "df1=df0.drop(182, axis=0)\n",
        "df2=df1.drop(3, axis=0)\n",
        "df3=df2.drop(5, axis=0)\n",
        "df4=df3.drop(6, axis=0)\n",
        "df5=df4.drop(185, axis=0)\n",
        "df6=df5.drop(189, axis=0)\n",
        "df7=df6.drop(192, axis=0)\n",
        "df8=df7.drop(14, axis=0)\n",
        "df9=df8.drop(194, axis=0)\n",
        "df10=df9.drop(195, axis=0)\n",
        "df11=df10.drop(18, axis=0)\n",
        "df12=df11.sort_values(by='Clubes', ascending=True)\n",
        "df12"
      ],
      "metadata": {
        "id": "gBgUwsfE1yew"
      },
      "execution_count": null,
      "outputs": []
    },
    {
      "cell_type": "code",
      "source": [
        "fig = px.histogram(df12, x=\"Clubes\", y=\"GolsF\",\n",
        "             color='Ano', barmode='group',\n",
        "             height=400,text_auto=True, title='Gráfico 10 - Comparativo de gols de times em comum da Série A em 2009 e 2018',\n",
        "             labels={\"GolsF\": \"Gols Feitos por Clube\",\n",
        "                     \"Clubes\": \"Clube\",\n",
        "                     \"Ano\": \"Ano\"} )\n",
        "fig.for_each_trace(lambda t: t.update(texttemplate = t.texttemplate))\n",
        "fig.show()"
      ],
      "metadata": {
        "id": "Nf_q5E9g4Yap"
      },
      "execution_count": null,
      "outputs": []
    },
    {
      "cell_type": "markdown",
      "source": [
        "Dos 14 times que se mantiveram na primeira divisão em 2009 e 2018, 10 deles somaram mais gols em 2009 que em 2018: Botafogo (diferença de 33%),Corinthians(32%), Cruzeiro (42%), Fluminense (35%), Grêmio(29%), Internacional (22%), Santos(21%),São Paulo(20%),Sport(27%) e Vitória (29%). "
      ],
      "metadata": {
        "id": "37iJwzkc46j2"
      }
    },
    {
      "cell_type": "markdown",
      "source": [
        "## O time que mais caiu em saldo de gols foi o Cruzeiro, com 42% de perda e o que menos perdeu foi o São Paulo, com perda de 20%."
      ],
      "metadata": {
        "id": "gtjFniMI81NJ"
      }
    },
    {
      "cell_type": "markdown",
      "source": [
        "Dos 4 times que se mantiveram na primeira divisão, apenas 4 somaram mais gols em 2018 que 2009: Athlético-PR(23%), Atlético-MG(2%), Flamengo(2%), Palmeiras(10%)."
      ],
      "metadata": {
        "id": "utDjfR8n-A7y"
      }
    },
    {
      "cell_type": "markdown",
      "source": [
        "## O time que mais subiu em saldo de gols foi o Athlético-PR, com um ganho de 23% e os que menos ganharam, empatando tecnicamente, foram o Atlético-MG e Flamengo, com 2% cada um."
      ],
      "metadata": {
        "id": "bx7zZkrc-5HN"
      }
    }
  ]
}